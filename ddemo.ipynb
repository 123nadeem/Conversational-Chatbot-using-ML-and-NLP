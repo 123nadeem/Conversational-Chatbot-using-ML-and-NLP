{
 "cells": [
  {
   "cell_type": "code",
   "execution_count": 1,
   "metadata": {},
   "outputs": [
    {
     "data": {
      "text/plain": [
       "{'intents': [{'tag': 'greeting',\n",
       "   'patterns': ['Hi',\n",
       "    'How are you',\n",
       "    'Is anyone there?',\n",
       "    'Hello',\n",
       "    'Good day',\n",
       "    'Whats up'],\n",
       "   'responses': ['Hi there, how can I help?'],\n",
       "   'context_set': ''},\n",
       "  {'tag': 'goodbye',\n",
       "   'patterns': ['bye',\n",
       "    'See you later',\n",
       "    'Goodbye',\n",
       "    'I am Leaving',\n",
       "    'Have a Good day'],\n",
       "   'responses': ['Farewell, hope I was of help! :)'],\n",
       "   'context_set': ''},\n",
       "  {'tag': 'identity',\n",
       "   'patterns': ['who are you?', 'what are you'],\n",
       "   'responses': ['I am an AI Chatbot, my work is to talk to you after analyzing what you have asked me and give you information about us.'],\n",
       "   'context_set': ''},\n",
       "  {'tag': 'time',\n",
       "   'patterns': ['what are your timings?', 'when are you open?'],\n",
       "   'responses': ['The visiting and meeting hours for the office space are from 9 AM to 6 PM'],\n",
       "   'context_set': ''},\n",
       "  {'tag': 'location',\n",
       "   'patterns': ['where are you located?', 'where is your office?'],\n",
       "   'responses': ['The office is located at the 3rd floor of the building.'],\n",
       "   'context_set': ''}]}"
      ]
     },
     "execution_count": 1,
     "metadata": {},
     "output_type": "execute_result"
    }
   ],
   "source": [
    "{\"intents\": [\n",
    "        {\"tag\": \"greeting\",\n",
    "         \"patterns\": [\"Hi\", \"How are you\", \"Is anyone there?\", \"Hello\", \"Good day\", \"Whats up\"],\n",
    "         \"responses\": [\"Hi there, how can I help?\"],\n",
    "         \"context_set\": \"\"\n",
    "        },\n",
    "        {\"tag\": \"goodbye\",\n",
    "         \"patterns\": [\"bye\", \"See you later\", \"Goodbye\", \"I am Leaving\", \"Have a Good day\"],\n",
    "         \"responses\": [\"Farewell, hope I was of help! :)\"],\n",
    "         \"context_set\": \"\"\n",
    "        },\n",
    "        {\"tag\": \"identity\",\n",
    "         \"patterns\": [\"who are you?\", \"what are you\"],\n",
    "         \"responses\": [\"I am an AI Chatbot, my work is to talk to you after analyzing what you have asked me and give you information about us.\"], \n",
    "         \t\"context_set\": \"\"\n",
    "        },\n",
    "        {\"tag\": \"time\",\n",
    "         \"patterns\": [\"what are your timings?\", \"when are you open?\"],\n",
    "         \"responses\": [\"The visiting and meeting hours for the office space are from 9 AM to 6 PM\"], \n",
    "        \"context_set\": \"\"\n",
    "        },\n",
    "        { \"tag\": \"location\",\n",
    "         \"patterns\": [\"where are you located?\", \"where is your office?\"],\n",
    "         \"responses\": [\"The office is located at the 3rd floor of the building.\"],\n",
    "         \"context_set\": \"\"\n",
    "        }\n",
    "\n",
    "   ]\n",
    "}\n"
   ]
  },
  {
   "cell_type": "code",
   "execution_count": 2,
   "metadata": {},
   "outputs": [],
   "source": [
    "import json\n",
    "with open('dataset/dataset.json') as f:\n",
    "    data = json.load(f)"
   ]
  },
  {
   "cell_type": "code",
   "execution_count": 4,
   "metadata": {},
   "outputs": [
    {
     "name": "stdout",
     "output_type": "stream",
     "text": [
      "[{'tag': 'greeting', 'patterns': ['Hi', 'How are you', 'Is anyone there?', 'Hello', 'Good day', 'Whats up'], 'responses': ['Hi there, how can I help?'], 'context_set': ''}, {'tag': 'goodbye', 'patterns': ['bye', 'See you later', 'Goodbye', 'I am Leaving', 'Have a Good day'], 'responses': ['Farewell, hope I was of help! :)'], 'context_set': ''}, {'tag': 'identity', 'patterns': ['who are you?', 'what are you'], 'responses': ['I am an AI Chatbot, my work is to talk to you after analyzing what you have asked me and give you information about us.'], 'context_set': ''}, {'tag': 'time', 'patterns': ['what are your timings?', 'when are you open?'], 'responses': ['The visiting and meeting hours for the office space are from 9 AM to 6 PM'], 'context_set': ''}, {'tag': 'location', 'patterns': ['where are you located?', 'where is your office?'], 'responses': ['The office is located at the 3rd floor of the building.'], 'context_set': ''}]\n"
     ]
    }
   ],
   "source": [
    "print(data['intents'])"
   ]
  },
  {
   "cell_type": "code",
   "execution_count": 5,
   "metadata": {},
   "outputs": [
    {
     "name": "stdout",
     "output_type": "stream",
     "text": [
      "['Hi', 'How are you', 'Is anyone there?', 'Hello', 'Good day', 'Whats up']\n",
      "['bye', 'See you later', 'Goodbye', 'I am Leaving', 'Have a Good day']\n",
      "['who are you?', 'what are you']\n",
      "['what are your timings?', 'when are you open?']\n",
      "['where are you located?', 'where is your office?']\n"
     ]
    }
   ],
   "source": [
    "for intent in data['intents']:\n",
    "    print(intent['patterns'])"
   ]
  },
  {
   "cell_type": "code",
   "execution_count": null,
   "metadata": {},
   "outputs": [],
   "source": []
  }
 ],
 "metadata": {
  "kernelspec": {
   "display_name": "Python 3.8.5 64-bit",
   "language": "python",
   "name": "python3"
  },
  "language_info": {
   "codemirror_mode": {
    "name": "ipython",
    "version": 3
   },
   "file_extension": ".py",
   "mimetype": "text/x-python",
   "name": "python",
   "nbconvert_exporter": "python",
   "pygments_lexer": "ipython3",
   "version": "3.8.5"
  },
  "orig_nbformat": 4,
  "vscode": {
   "interpreter": {
    "hash": "15505705f89398e6c627d683cd8de2b026dbec9777fc20f33710517cdd427d0b"
   }
  }
 },
 "nbformat": 4,
 "nbformat_minor": 2
}
